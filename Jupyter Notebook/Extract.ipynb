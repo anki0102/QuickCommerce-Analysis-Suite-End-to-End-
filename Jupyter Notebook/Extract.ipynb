{
 "cells": [
  {
   "cell_type": "code",
   "execution_count": 1,
   "id": "c200da0a",
   "metadata": {},
   "outputs": [],
   "source": [
    "import pandas as pd\n"
   ]
  },
  {
   "cell_type": "code",
   "execution_count": 2,
   "id": "293d2ec3",
   "metadata": {},
   "outputs": [],
   "source": [
    "df = pd.read_csv(r'../dataset/raw_data/ecommerce_delivery_analytics.csv')"
   ]
  },
  {
   "cell_type": "code",
   "execution_count": null,
   "id": "9d646e3a",
   "metadata": {},
   "outputs": [],
   "source": [
    "df.info()"
   ]
  },
  {
   "cell_type": "code",
   "execution_count": 3,
   "id": "a1cdc043",
   "metadata": {},
   "outputs": [
    {
     "data": {
      "text/plain": [
       "Index(['Order ID', 'Customer ID', 'Platform', 'Order Date & Time',\n",
       "       'Delivery Time (Minutes)', 'Product Category', 'Order Value (INR)',\n",
       "       'Customer Feedback', 'Service Rating', 'Delivery Delay',\n",
       "       'Refund Requested'],\n",
       "      dtype='object')"
      ]
     },
     "execution_count": 3,
     "metadata": {},
     "output_type": "execute_result"
    }
   ],
   "source": [
    "df.columns"
   ]
  },
  {
   "cell_type": "code",
   "execution_count": 3,
   "id": "48804bb3",
   "metadata": {},
   "outputs": [],
   "source": [
    "customer_info = pd.DataFrame(columns=['Customer ID'])\n",
    "customer_info['Customer ID'] = pd.DataFrame(df['Customer ID'].unique())"
   ]
  },
  {
   "cell_type": "code",
   "execution_count": 5,
   "id": "380b229a",
   "metadata": {},
   "outputs": [],
   "source": [
    "customer_info.to_csv(r'../dataset/dimensions/dim_customer_info.csv',index=False)"
   ]
  },
  {
   "cell_type": "code",
   "execution_count": 6,
   "id": "bad00cf7",
   "metadata": {},
   "outputs": [],
   "source": [
    "platforms_df = pd.DataFrame(columns=['platform_id' , 'platform_name','platform_code'])"
   ]
  },
  {
   "cell_type": "code",
   "execution_count": 7,
   "id": "c4c22261",
   "metadata": {},
   "outputs": [],
   "source": [
    "platforms_df['platform_name'] = pd.DataFrame(df['Platform'].unique())"
   ]
  },
  {
   "cell_type": "code",
   "execution_count": 8,
   "id": "eac59c2b",
   "metadata": {},
   "outputs": [],
   "source": [
    "platforms_df['platform_id'] = [1,2,3]"
   ]
  },
  {
   "cell_type": "code",
   "execution_count": 9,
   "id": "795c912f",
   "metadata": {},
   "outputs": [],
   "source": [
    "platforms_df['platform_code'] = ['JIO','BLK','SWI']"
   ]
  },
  {
   "cell_type": "code",
   "execution_count": 10,
   "id": "1c368712",
   "metadata": {},
   "outputs": [],
   "source": [
    "platforms_df.to_csv(r'../dataset/dimensions/dim_platform_info.csv',index=False)"
   ]
  },
  {
   "cell_type": "code",
   "execution_count": 11,
   "id": "adc7d719",
   "metadata": {},
   "outputs": [],
   "source": [
    "product_category_mapping = {'Dairy ':1,'Grocery':2,'Snacks':3,'Fruits & Vegetables':4,'Beverages':5,'Personal Care':6}"
   ]
  },
  {
   "cell_type": "code",
   "execution_count": 12,
   "id": "e4209722",
   "metadata": {},
   "outputs": [],
   "source": [
    "product_categories_df = pd.DataFrame(list(product_category_mapping.items()),columns=['category_name','category_id'])"
   ]
  },
  {
   "cell_type": "code",
   "execution_count": 13,
   "id": "1f952574",
   "metadata": {},
   "outputs": [],
   "source": [
    "product_categories_df = product_categories_df[['category_id','category_name']]"
   ]
  },
  {
   "cell_type": "code",
   "execution_count": 14,
   "id": "5100e668",
   "metadata": {},
   "outputs": [],
   "source": [
    "product_categories_df.to_csv(r'../dataset/dimensions/dim_product_categories.csv',index=False)"
   ]
  },
  {
   "cell_type": "code",
   "execution_count": 15,
   "id": "1ee39c85",
   "metadata": {},
   "outputs": [],
   "source": [
    "orders_df = pd.DataFrame(columns=['order_id','customer_id','platform_id','category_id','order_datetime','delivery_time_min','order_value_inr','delivery_delay','refund_requested','service_rating','customer_feedback'])"
   ]
  },
  {
   "cell_type": "code",
   "execution_count": 16,
   "id": "1bd7f776",
   "metadata": {},
   "outputs": [],
   "source": [
    "orders_df['order_id'] = df['Order ID']\n",
    "orders_df['customer_id'] = df['Customer ID']\n",
    "orders_df['order_datetime'] = df['Order Date & Time']\n",
    "orders_df['delivery_time_min'] = df['Delivery Time (Minutes)']\n",
    "orders_df['order_value_inr'] = df['Order Value (INR)']\n",
    "orders_df['delivery_delay'] = df['Delivery Delay']\n",
    "orders_df['refund_requested'] = df['Refund Requested']\n",
    "orders_df['service_rating'] = df['Service Rating']\n",
    "orders_df['customer_feedback'] = df['Customer Feedback']"
   ]
  },
  {
   "cell_type": "code",
   "execution_count": 17,
   "id": "d8d1a32e",
   "metadata": {},
   "outputs": [],
   "source": [
    "platform_map = {'JioMart':1,'Blinkit':2,'Swiggy Instamart':3}\n",
    "product_category_mapping = {'Dairy':1,'Grocery':2,'Snacks':3,'Fruits & Vegetables':4,'Beverages':5,'Personal Care':6}"
   ]
  },
  {
   "cell_type": "code",
   "execution_count": 18,
   "id": "b6c41a59",
   "metadata": {},
   "outputs": [],
   "source": [
    "orders_df['platform_id'] = df['Platform'].map(platform_map)"
   ]
  },
  {
   "cell_type": "code",
   "execution_count": 19,
   "id": "95ee84ec",
   "metadata": {},
   "outputs": [],
   "source": [
    "orders_df['category_id'] = df['Product Category'].map(product_category_mapping)"
   ]
  },
  {
   "cell_type": "code",
   "execution_count": 20,
   "id": "54e8913d",
   "metadata": {},
   "outputs": [],
   "source": [
    "orders_df = orders_df.rename(columns={'category_id':'product_category_id'})"
   ]
  },
  {
   "cell_type": "code",
   "execution_count": 21,
   "id": "29db6388",
   "metadata": {},
   "outputs": [],
   "source": [
    "orders_df.to_csv(r'../dataset/dimensions/dim_orders.csv',index=False)"
   ]
  },
  {
   "cell_type": "code",
   "execution_count": null,
   "id": "971db6d3",
   "metadata": {},
   "outputs": [],
   "source": [
    "orders_df"
   ]
  }
 ],
 "metadata": {
  "kernelspec": {
   "display_name": "Python 3",
   "language": "python",
   "name": "python3"
  },
  "language_info": {
   "codemirror_mode": {
    "name": "ipython",
    "version": 3
   },
   "file_extension": ".py",
   "mimetype": "text/x-python",
   "name": "python",
   "nbconvert_exporter": "python",
   "pygments_lexer": "ipython3",
   "version": "3.13.2"
  }
 },
 "nbformat": 4,
 "nbformat_minor": 5
}
